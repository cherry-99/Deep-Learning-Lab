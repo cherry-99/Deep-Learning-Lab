{
  "cells": [
    {
      "cell_type": "markdown",
      "metadata": {
        "deletable": false,
        "editable": false,
        "nbgrader": {
          "checksum": "2e433cbdd5b1bc32ffca46551a708e45",
          "grade": false,
          "grade_id": "cell-c290b2da5fe2edf3",
          "locked": true,
          "schema_version": 1,
          "solution": false
        },
        "id": "-DjzQpiAt4mH"
      },
      "source": [
        "# Part 2: Loading a saved model"
      ]
    },
    {
      "cell_type": "markdown",
      "metadata": {
        "deletable": false,
        "editable": false,
        "nbgrader": {
          "checksum": "f548e96caa143d15f7b0ec97bd4e149f",
          "grade": false,
          "grade_id": "cell-ba8019f876600bdf",
          "locked": true,
          "schema_version": 1,
          "solution": false
        },
        "id": "Ew4xo8jNt4mM"
      },
      "source": [
        "__Before starting, we recommend you enable GPU acceleration if you're running on Colab. You'll also need to upload the weights you downloaded previously using the following block and using the upload button to upload your bettercnn.weights file:__"
      ]
    },
    {
      "cell_type": "code",
      "execution_count": 1,
      "metadata": {
        "deletable": false,
        "editable": false,
        "nbgrader": {
          "checksum": "c0d2caf75989226e03a8ded7438278a5",
          "grade": false,
          "grade_id": "cell-7baa302f182176c7",
          "locked": true,
          "schema_version": 1,
          "solution": false
        },
        "id": "vUwvwgInt4mN",
        "colab": {
          "resources": {
            "http://localhost:8080/nbextensions/google.colab/files.js": {
              "data": "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",
              "ok": true,
              "headers": [
                [
                  "content-type",
                  "application/javascript"
                ]
              ],
              "status": 200,
              "status_text": ""
            }
          },
          "base_uri": "https://localhost:8080/",
          "height": 1000
        },
        "outputId": "b1925aab-052e-4a0a-f488-26f571f9ce81"
      },
      "outputs": [
        {
          "output_type": "stream",
          "name": "stdout",
          "text": [
            "Collecting torchbearer\n",
            "  Downloading torchbearer-0.5.3-py3-none-any.whl (138 kB)\n",
            "\u001b[?25l\r\u001b[K     |██▍                             | 10 kB 17.9 MB/s eta 0:00:01\r\u001b[K     |████▊                           | 20 kB 12.2 MB/s eta 0:00:01\r\u001b[K     |███████▏                        | 30 kB 9.5 MB/s eta 0:00:01\r\u001b[K     |█████████▌                      | 40 kB 8.8 MB/s eta 0:00:01\r\u001b[K     |███████████▉                    | 51 kB 4.5 MB/s eta 0:00:01\r\u001b[K     |██████████████▎                 | 61 kB 5.3 MB/s eta 0:00:01\r\u001b[K     |████████████████▋               | 71 kB 5.7 MB/s eta 0:00:01\r\u001b[K     |███████████████████             | 81 kB 5.9 MB/s eta 0:00:01\r\u001b[K     |█████████████████████▍          | 92 kB 6.5 MB/s eta 0:00:01\r\u001b[K     |███████████████████████▊        | 102 kB 5.4 MB/s eta 0:00:01\r\u001b[K     |██████████████████████████      | 112 kB 5.4 MB/s eta 0:00:01\r\u001b[K     |████████████████████████████▌   | 122 kB 5.4 MB/s eta 0:00:01\r\u001b[K     |██████████████████████████████▉ | 133 kB 5.4 MB/s eta 0:00:01\r\u001b[K     |████████████████████████████████| 138 kB 5.4 MB/s \n",
            "\u001b[?25hRequirement already satisfied: tqdm in /usr/local/lib/python3.7/dist-packages (from torchbearer) (4.63.0)\n",
            "Requirement already satisfied: numpy in /usr/local/lib/python3.7/dist-packages (from torchbearer) (1.21.5)\n",
            "Requirement already satisfied: torch>=1.0.0 in /usr/local/lib/python3.7/dist-packages (from torchbearer) (1.10.0+cu111)\n",
            "Requirement already satisfied: typing-extensions in /usr/local/lib/python3.7/dist-packages (from torch>=1.0.0->torchbearer) (3.10.0.2)\n",
            "Installing collected packages: torchbearer\n",
            "Successfully installed torchbearer-0.5.3\n"
          ]
        },
        {
          "output_type": "display_data",
          "data": {
            "text/plain": [
              "<IPython.core.display.HTML object>"
            ],
            "text/html": [
              "\n",
              "     <input type=\"file\" id=\"files-4017cc27-207b-4340-9f76-a9ba5282cebc\" name=\"files[]\" multiple disabled\n",
              "        style=\"border:none\" />\n",
              "     <output id=\"result-4017cc27-207b-4340-9f76-a9ba5282cebc\">\n",
              "      Upload widget is only available when the cell has been executed in the\n",
              "      current browser session. Please rerun this cell to enable.\n",
              "      </output>\n",
              "      <script src=\"/nbextensions/google.colab/files.js\"></script> "
            ]
          },
          "metadata": {}
        },
        {
          "output_type": "stream",
          "name": "stdout",
          "text": [
            "Saving bettercnn.weights to bettercnn.weights\n",
            "--2022-04-06 11:48:52--  http://comp6248.ecs.soton.ac.uk/labs/lab5/0.PNG\n",
            "Resolving comp6248.ecs.soton.ac.uk (comp6248.ecs.soton.ac.uk)... 185.199.108.153, 185.199.109.153, 185.199.110.153, ...\n",
            "Connecting to comp6248.ecs.soton.ac.uk (comp6248.ecs.soton.ac.uk)|185.199.108.153|:80... connected.\n",
            "HTTP request sent, awaiting response... 200 OK\n",
            "Length: 2514 (2.5K) [image/png]\n",
            "Saving to: ‘0.PNG’\n",
            "\n",
            "0.PNG               100%[===================>]   2.46K  --.-KB/s    in 0s      \n",
            "\n",
            "2022-04-06 11:48:52 (280 MB/s) - ‘0.PNG’ saved [2514/2514]\n",
            "\n",
            "--2022-04-06 11:48:52--  http://comp6248.ecs.soton.ac.uk/labs/lab5/1.PNG\n",
            "Resolving comp6248.ecs.soton.ac.uk (comp6248.ecs.soton.ac.uk)... 185.199.108.153, 185.199.109.153, 185.199.110.153, ...\n",
            "Connecting to comp6248.ecs.soton.ac.uk (comp6248.ecs.soton.ac.uk)|185.199.108.153|:80... connected.\n",
            "HTTP request sent, awaiting response... 200 OK\n",
            "Length: 2448 (2.4K) [image/png]\n",
            "Saving to: ‘1.PNG’\n",
            "\n",
            "1.PNG               100%[===================>]   2.39K  --.-KB/s    in 0s      \n",
            "\n",
            "2022-04-06 11:48:52 (122 MB/s) - ‘1.PNG’ saved [2448/2448]\n",
            "\n",
            "--2022-04-06 11:48:52--  http://comp6248.ecs.soton.ac.uk/labs/lab5/2.PNG\n",
            "Resolving comp6248.ecs.soton.ac.uk (comp6248.ecs.soton.ac.uk)... 185.199.108.153, 185.199.109.153, 185.199.110.153, ...\n",
            "Connecting to comp6248.ecs.soton.ac.uk (comp6248.ecs.soton.ac.uk)|185.199.108.153|:80... connected.\n",
            "HTTP request sent, awaiting response... 200 OK\n",
            "Length: 156 [image/png]\n",
            "Saving to: ‘2.PNG’\n",
            "\n",
            "2.PNG               100%[===================>]     156  --.-KB/s    in 0s      \n",
            "\n",
            "2022-04-06 11:48:53 (22.2 MB/s) - ‘2.PNG’ saved [156/156]\n",
            "\n",
            "--2022-04-06 11:48:53--  http://comp6248.ecs.soton.ac.uk/labs/lab5/3.PNG\n",
            "Resolving comp6248.ecs.soton.ac.uk (comp6248.ecs.soton.ac.uk)... 185.199.108.153, 185.199.109.153, 185.199.110.153, ...\n",
            "Connecting to comp6248.ecs.soton.ac.uk (comp6248.ecs.soton.ac.uk)|185.199.108.153|:80... connected.\n",
            "HTTP request sent, awaiting response... 200 OK\n",
            "Length: 229 [image/png]\n",
            "Saving to: ‘3.PNG’\n",
            "\n",
            "3.PNG               100%[===================>]     229  --.-KB/s    in 0s      \n",
            "\n",
            "2022-04-06 11:48:53 (30.9 MB/s) - ‘3.PNG’ saved [229/229]\n",
            "\n",
            "--2022-04-06 11:48:53--  http://comp6248.ecs.soton.ac.uk/labs/lab5/4.PNG\n",
            "Resolving comp6248.ecs.soton.ac.uk (comp6248.ecs.soton.ac.uk)... 185.199.108.153, 185.199.109.153, 185.199.110.153, ...\n",
            "Connecting to comp6248.ecs.soton.ac.uk (comp6248.ecs.soton.ac.uk)|185.199.108.153|:80... connected.\n",
            "HTTP request sent, awaiting response... 200 OK\n",
            "Length: 175 [image/png]\n",
            "Saving to: ‘4.PNG’\n",
            "\n",
            "4.PNG               100%[===================>]     175  --.-KB/s    in 0s      \n",
            "\n",
            "2022-04-06 11:48:53 (24.6 MB/s) - ‘4.PNG’ saved [175/175]\n",
            "\n",
            "--2022-04-06 11:48:53--  http://comp6248.ecs.soton.ac.uk/labs/lab5/5.PNG\n",
            "Resolving comp6248.ecs.soton.ac.uk (comp6248.ecs.soton.ac.uk)... 185.199.108.153, 185.199.109.153, 185.199.110.153, ...\n",
            "Connecting to comp6248.ecs.soton.ac.uk (comp6248.ecs.soton.ac.uk)|185.199.108.153|:80... connected.\n",
            "HTTP request sent, awaiting response... 200 OK\n",
            "Length: 155 [image/png]\n",
            "Saving to: ‘5.PNG’\n",
            "\n",
            "5.PNG               100%[===================>]     155  --.-KB/s    in 0s      \n",
            "\n",
            "2022-04-06 11:48:53 (21.7 MB/s) - ‘5.PNG’ saved [155/155]\n",
            "\n",
            "--2022-04-06 11:48:53--  http://comp6248.ecs.soton.ac.uk/labs/lab5/6.PNG\n",
            "Resolving comp6248.ecs.soton.ac.uk (comp6248.ecs.soton.ac.uk)... 185.199.108.153, 185.199.109.153, 185.199.110.153, ...\n",
            "Connecting to comp6248.ecs.soton.ac.uk (comp6248.ecs.soton.ac.uk)|185.199.108.153|:80... connected.\n",
            "HTTP request sent, awaiting response... 200 OK\n",
            "Length: 274 [image/png]\n",
            "Saving to: ‘6.PNG’\n",
            "\n",
            "6.PNG               100%[===================>]     274  --.-KB/s    in 0s      \n",
            "\n",
            "2022-04-06 11:48:53 (14.1 MB/s) - ‘6.PNG’ saved [274/274]\n",
            "\n",
            "--2022-04-06 11:48:53--  http://comp6248.ecs.soton.ac.uk/labs/lab5/7.PNG\n",
            "Resolving comp6248.ecs.soton.ac.uk (comp6248.ecs.soton.ac.uk)... 185.199.108.153, 185.199.109.153, 185.199.110.153, ...\n",
            "Connecting to comp6248.ecs.soton.ac.uk (comp6248.ecs.soton.ac.uk)|185.199.108.153|:80... connected.\n",
            "HTTP request sent, awaiting response... 200 OK\n",
            "Length: 157 [image/png]\n",
            "Saving to: ‘7.PNG’\n",
            "\n",
            "7.PNG               100%[===================>]     157  --.-KB/s    in 0s      \n",
            "\n",
            "2022-04-06 11:48:53 (19.9 MB/s) - ‘7.PNG’ saved [157/157]\n",
            "\n",
            "--2022-04-06 11:48:53--  http://comp6248.ecs.soton.ac.uk/labs/lab5/8.PNG\n",
            "Resolving comp6248.ecs.soton.ac.uk (comp6248.ecs.soton.ac.uk)... 185.199.108.153, 185.199.109.153, 185.199.110.153, ...\n",
            "Connecting to comp6248.ecs.soton.ac.uk (comp6248.ecs.soton.ac.uk)|185.199.108.153|:80... connected.\n",
            "HTTP request sent, awaiting response... 200 OK\n",
            "Length: 246 [image/png]\n",
            "Saving to: ‘8.PNG’\n",
            "\n",
            "8.PNG               100%[===================>]     246  --.-KB/s    in 0s      \n",
            "\n",
            "2022-04-06 11:48:53 (30.7 MB/s) - ‘8.PNG’ saved [246/246]\n",
            "\n",
            "--2022-04-06 11:48:53--  http://comp6248.ecs.soton.ac.uk/labs/lab5/9.PNG\n",
            "Resolving comp6248.ecs.soton.ac.uk (comp6248.ecs.soton.ac.uk)... 185.199.108.153, 185.199.109.153, 185.199.110.153, ...\n",
            "Connecting to comp6248.ecs.soton.ac.uk (comp6248.ecs.soton.ac.uk)|185.199.108.153|:80... connected.\n",
            "HTTP request sent, awaiting response... 200 OK\n",
            "Length: 261 [image/png]\n",
            "Saving to: ‘9.PNG’\n",
            "\n",
            "9.PNG               100%[===================>]     261  --.-KB/s    in 0s      \n",
            "\n",
            "2022-04-06 11:48:53 (34.5 MB/s) - ‘9.PNG’ saved [261/261]\n",
            "\n"
          ]
        }
      ],
      "source": [
        "# Execute this code block to install dependencies when running on colab\n",
        "try:\n",
        "    import torch\n",
        "except:\n",
        "    from os.path import exists\n",
        "    from wheel.pep425tags import get_abbr_impl, get_impl_ver, get_abi_tag\n",
        "    platform = '{}{}-{}'.format(get_abbr_impl(), get_impl_ver(), get_abi_tag())\n",
        "    cuda_output = !ldconfig -p|grep cudart.so|sed -e 's/.*\\.\\([0-9]*\\)\\.\\([0-9]*\\)$/cu\\1\\2/'\n",
        "    accelerator = cuda_output[0] if exists('/dev/nvidia0') else 'cpu'\n",
        "\n",
        "    !pip install -q http://download.pytorch.org/whl/{accelerator}/torch-1.0.0-{platform}-linux_x86_64.whl torchvision\n",
        "    \n",
        "try: \n",
        "    import torchbearer\n",
        "except:\n",
        "    !pip install torchbearer\n",
        "\n",
        "try:\n",
        "    from google.colab import files\n",
        "    uploaded = files.upload()\n",
        "except:\n",
        "    print(\"Not running on colab. Ignoring.\")\n",
        "\n",
        "!wget http://comp6248.ecs.soton.ac.uk/labs/lab5/0.PNG\n",
        "!wget http://comp6248.ecs.soton.ac.uk/labs/lab5/1.PNG\n",
        "!wget http://comp6248.ecs.soton.ac.uk/labs/lab5/2.PNG\n",
        "!wget http://comp6248.ecs.soton.ac.uk/labs/lab5/3.PNG\n",
        "!wget http://comp6248.ecs.soton.ac.uk/labs/lab5/4.PNG\n",
        "!wget http://comp6248.ecs.soton.ac.uk/labs/lab5/5.PNG\n",
        "!wget http://comp6248.ecs.soton.ac.uk/labs/lab5/6.PNG\n",
        "!wget http://comp6248.ecs.soton.ac.uk/labs/lab5/7.PNG\n",
        "!wget http://comp6248.ecs.soton.ac.uk/labs/lab5/8.PNG\n",
        "!wget http://comp6248.ecs.soton.ac.uk/labs/lab5/9.PNG"
      ]
    },
    {
      "cell_type": "markdown",
      "metadata": {
        "deletable": false,
        "editable": false,
        "nbgrader": {
          "checksum": "ce20db2649381e63c13307bcd496ab41",
          "grade": false,
          "grade_id": "cell-05dc06c4f046cee9",
          "locked": true,
          "schema_version": 1,
          "solution": false
        },
        "id": "1DhBRLuRt4mS"
      },
      "source": [
        "## Reading models and propagating input\n",
        "\n",
        "At this point, we know how to train a model and how to save the resultant weights. Let's assume we're in the business of building a real system for handwritten character recognition; we need to be able to read in a previously trained model and forward propagate an image from outside the MNIST dataset through it in order to generate a prediction. Let's build some code to do just that. Firstly we need to load the model we saved in the previous part of the lab; PyTorch doesn't save the model structure by default, so you'll need to copy-paste the `BetterCNN` `forward` method implementation from the previous workbook into the block below:"
      ]
    },
    {
      "cell_type": "code",
      "execution_count": 2,
      "metadata": {
        "deletable": false,
        "nbgrader": {
          "checksum": "83517d0b5dd9912b14e753371891acda",
          "grade": false,
          "grade_id": "cell-25d7ce8447ab7c15",
          "locked": false,
          "schema_version": 1,
          "solution": true
        },
        "id": "l90jtgpet4mT"
      },
      "outputs": [],
      "source": [
        "%matplotlib inline\n",
        "# automatically reload external modules if they change\n",
        "%load_ext autoreload\n",
        "%autoreload 2\n",
        "\n",
        "import torch \n",
        "import torch.nn.functional as F\n",
        "import matplotlib.pyplot as plt\n",
        "from torch import nn\n",
        "\n",
        "import torch \n",
        "import torch.nn.functional as F\n",
        "from torch import nn\n",
        "\n",
        "# Model Definition\n",
        "class BetterCNN(nn.Module):\n",
        "    \n",
        "    def __init__(self):\n",
        "        super(BetterCNN, self).__init__()\n",
        "        self.conv1 = nn.Conv2d(1, 30, (5, 5), padding=0)\n",
        "        self.conv2 = nn.Conv2d(30, 15, (3, 3), padding=0)\n",
        "        self.fc1 = nn.Linear(15 * 5**2, 128)\n",
        "        self.fc2 = nn.Linear(128, 50)\n",
        "        self.fc3 = nn.Linear(50, 10)\n",
        "    \n",
        "    def forward(self, x):\n",
        "        # YOUR CODE HERE\n",
        "        # raise NotImplementedError()\n",
        "        out = self.conv1(x)\n",
        "        out = F.relu(out)\n",
        "        out = F.max_pool2d(out, (2,2))\n",
        "        out = self.conv2(out)\n",
        "        out = F.relu(out)\n",
        "        out = F.max_pool2d(out, (2,2))\n",
        "        out = F.dropout(out, 0.2)\n",
        "        out = out.view(out.shape[0], -1)\n",
        "        out = self.fc1(out)\n",
        "        out = F.relu(out)\n",
        "        out = self.fc2(out)\n",
        "        out = F.relu(out)\n",
        "        out = self.fc3(out)\n",
        "        return out\n",
        "\n",
        "# build the model and load state\n",
        "model = BetterCNN()\n",
        "model.load_state_dict(torch.load('bettercnn.weights'))\n",
        "\n",
        "# put model in eval mode\n",
        "model = model.eval() "
      ]
    },
    {
      "cell_type": "markdown",
      "metadata": {
        "deletable": false,
        "editable": false,
        "nbgrader": {
          "checksum": "97971f78e75437a324758a0adf66779f",
          "grade": false,
          "grade_id": "cell-05d9eb94a8c5425c",
          "locked": true,
          "schema_version": 1,
          "solution": false
        },
        "id": "AqvrDoRkt4mU"
      },
      "source": [
        "We've provided a set of images you can try. Let's load the one corresponding to a '1', convert it to a tensor, and display it:"
      ]
    },
    {
      "cell_type": "code",
      "execution_count": 3,
      "metadata": {
        "deletable": false,
        "editable": false,
        "nbgrader": {
          "checksum": "c711239daefae20c86dd0d9036bdfacd",
          "grade": false,
          "grade_id": "cell-4bd7da9513437358",
          "locked": true,
          "schema_version": 1,
          "solution": false
        },
        "id": "JCTR8JRnt4mV",
        "colab": {
          "base_uri": "https://localhost:8080/",
          "height": 282
        },
        "outputId": "e8022098-fb9f-4e0d-d562-7949be74c9b2"
      },
      "outputs": [
        {
          "output_type": "execute_result",
          "data": {
            "text/plain": [
              "<matplotlib.image.AxesImage at 0x7fd612951cd0>"
            ]
          },
          "metadata": {},
          "execution_count": 3
        },
        {
          "output_type": "display_data",
          "data": {
            "text/plain": [
              "<Figure size 432x288 with 1 Axes>"
            ],
            "image/png": "[encoded data removed]"
          },
          "metadata": {
            "needs_background": "light"
          }
        }
      ],
      "source": [
        "from PIL import Image\n",
        "import torchvision\n",
        "\n",
        "transform = torchvision.transforms.ToTensor()\n",
        "im = transform(Image.open(\"1.PNG\"))\n",
        "\n",
        "plt.imshow(im[0], cmap=plt.get_cmap('gray'))"
      ]
    },
    {
      "cell_type": "markdown",
      "metadata": {
        "deletable": false,
        "editable": false,
        "nbgrader": {
          "checksum": "56476fa5813e1c34650810d8eed151ef",
          "grade": false,
          "grade_id": "cell-6cf292098a212188",
          "locked": true,
          "schema_version": 1,
          "solution": false
        },
        "id": "87HZpa40t4mV"
      },
      "source": [
        "Now we'll use the model to make a prediction. The model expects input to have a batch dimension, so we use `unsqueeze(0)` to prepend one to the image. Recall that the model outputs the logits of the classes; the index of the biggest one will tell us which class has been predicted."
      ]
    },
    {
      "cell_type": "code",
      "execution_count": 4,
      "metadata": {
        "deletable": false,
        "editable": false,
        "nbgrader": {
          "checksum": "ff7a048101ce27cbe780653cd8468eca",
          "grade": false,
          "grade_id": "cell-92042c8f7b09a26d",
          "locked": true,
          "schema_version": 1,
          "solution": false
        },
        "id": "kN4ZtKbmt4mW",
        "colab": {
          "base_uri": "https://localhost:8080/"
        },
        "outputId": "fdc03581-2291-40e1-9526-156bce045fad"
      },
      "outputs": [
        {
          "output_type": "stream",
          "name": "stdout",
          "text": [
            "logits: tensor([[-4.7349,  4.9753, -2.3128, -5.4096, -0.4975, -2.4357, -1.8663,  0.8794,\n",
            "          3.9039, -1.2648]])\n",
            "predicted class: 1\n"
          ]
        }
      ],
      "source": [
        "batch = im.unsqueeze(0)\n",
        "predictions = model(batch)\n",
        "\n",
        "print(\"logits:\", predictions.data)\n",
        "\n",
        "_, predicted_class = predictions.max(1)\n",
        "\n",
        "print(\"predicted class:\", predicted_class.item())"
      ]
    },
    {
      "cell_type": "markdown",
      "metadata": {
        "deletable": false,
        "editable": false,
        "nbgrader": {
          "checksum": "e83d2f7a42effd9370d399d819d592e3",
          "grade": false,
          "grade_id": "cell-dbe9d30ed68054cf",
          "locked": true,
          "schema_version": 1,
          "solution": false
        },
        "id": "7NF7n-d2t4mX"
      },
      "source": [
        "We've provided images `0.PNG` through to `9.PNG` for you to play with. Use the following code block to classify each image and print the results."
      ]
    },
    {
      "cell_type": "code",
      "execution_count": 7,
      "metadata": {
        "deletable": false,
        "nbgrader": {
          "checksum": "2c942b974467a9a456a2e9e4389b6f7c",
          "grade": false,
          "grade_id": "cell-27a634204f34e601",
          "locked": false,
          "schema_version": 1,
          "solution": true
        },
        "id": "9DMrfM4Ut4mX",
        "colab": {
          "base_uri": "https://localhost:8080/"
        },
        "outputId": "3e09f45a-2296-4617-adf9-13da4478a65e"
      },
      "outputs": [
        {
          "output_type": "stream",
          "name": "stdout",
          "text": [
            "logits: tensor([[ 9.4085, -8.8923, -1.3865, -7.7005,  0.2139, -5.3447, -2.0959, -0.7209,\n",
            "         -2.3975,  6.9297]])\n",
            "predicted class: 0\n",
            "logits: tensor([[-5.3674,  7.8097, -2.4731, -6.1231, -0.2894, -2.4019, -0.3447,  0.7903,\n",
            "          3.2681, -3.4393]])\n",
            "predicted class: 1\n",
            "logits: tensor([[ 0.6377,  0.9958, 11.5911,  0.6438, -8.4894, -8.6813, -7.2274,  2.9442,\n",
            "         -3.1324, -7.2456]])\n",
            "predicted class: 2\n",
            "logits: tensor([[-11.8528,  -1.3384,   3.1489,  13.7628, -10.6776,  -1.4349, -13.5213,\n",
            "          -2.0805,   0.8344,  -2.5416]])\n",
            "predicted class: 3\n",
            "logits: tensor([[-8.7406, -2.9950, -1.6114, -6.3470,  8.9405, -1.7867,  1.4343, -1.8454,\n",
            "          4.0360, -5.2083]])\n",
            "predicted class: 4\n",
            "logits: tensor([[-4.2014, -7.9509, -8.1359, -0.1298, -2.5890, 13.0274, -3.8532, -2.8047,\n",
            "         -2.2788,  4.2438]])\n",
            "predicted class: 5\n",
            "logits: tensor([[  1.3031,  -8.7462,  -4.1398,  -8.5743,  -1.5380,   7.8822,  10.0596,\n",
            "         -11.4150,   3.3317,  -0.4061]])\n",
            "predicted class: 6\n",
            "logits: tensor([[-14.5548,  -2.2515,   0.7216,   4.2865,  -2.1207,  -6.1203, -11.3389,\n",
            "          13.9391,  -4.0872,  -2.9564]])\n",
            "predicted class: 7\n",
            "logits: tensor([[-4.3559, -6.7598, -0.2589,  0.9896, -4.5400, -1.1326, -2.3155, -8.2394,\n",
            "         14.4502,  1.6119]])\n",
            "predicted class: 8\n",
            "logits: tensor([[ -7.7384,  -5.4598,  -3.3057,  -1.3091,   3.5963,  -2.1109, -10.6222,\n",
            "           1.7666,   1.2058,   9.0321]])\n",
            "predicted class: 9\n"
          ]
        }
      ],
      "source": [
        "# YOUR CODE HERE\n",
        "# raise NotImplementedError()\n",
        "for i in range(10):\n",
        "  img_str = str(i) + \".PNG\"\n",
        "  im = transform(Image.open(img_str))\n",
        "  batch = im.unsqueeze(0)\n",
        "  predictions = model(batch)\n",
        "  print(\"logits:\", predictions.data)\n",
        "  _, predicted_class = predictions.max(1)\n",
        "\n",
        "  print(\"predicted class:\", predicted_class.item())\n"
      ]
    },
    {
      "cell_type": "markdown",
      "metadata": {
        "deletable": false,
        "editable": false,
        "nbgrader": {
          "checksum": "7126e6798f657baa53e1d4e360614e02",
          "grade": false,
          "grade_id": "cell-b1f2a02a37c3f405",
          "locked": true,
          "schema_version": 1,
          "solution": false
        },
        "id": "xfRzIb5Wt4mY"
      },
      "source": [
        "__Answer the following question (enter the answer in the box below each one):__\n",
        "\n",
        "__1.__ How many images were missclassified? Which images?"
      ]
    },
    {
      "cell_type": "markdown",
      "metadata": {
        "deletable": false,
        "nbgrader": {
          "checksum": "2bfced6d006c0b957ba58544a03b12f2",
          "grade": true,
          "grade_id": "cell-092c153f41f2dd1d",
          "locked": false,
          "points": 2,
          "schema_version": 1,
          "solution": true
        },
        "id": "TgrwhtCAt4mZ"
      },
      "source": [
        "None of the images were misclassified."
      ]
    }
  ],
  "metadata": {
    "kernelspec": {
      "display_name": "Python 3",
      "language": "python",
      "name": "python3"
    },
    "language_info": {
      "codemirror_mode": {
        "name": "ipython",
        "version": 3
      },
      "file_extension": ".py",
      "mimetype": "text/x-python",
      "name": "python",
      "nbconvert_exporter": "python",
      "pygments_lexer": "ipython3",
      "version": "3.6.7"
    },
    "colab": {
      "name": "Copy of 5_2_Loading.ipynb",
      "provenance": [],
      "collapsed_sections": []
    },
    "accelerator": "GPU"
  },
  "nbformat": 4,
  "nbformat_minor": 0
}